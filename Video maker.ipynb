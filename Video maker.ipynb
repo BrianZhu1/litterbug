{
 "cells": [
  {
   "cell_type": "code",
   "execution_count": 12,
   "id": "6ac70421",
   "metadata": {},
   "outputs": [
    {
     "name": "stdout",
     "output_type": "stream",
     "text": [
      "1685234934.154684\n"
     ]
    },
    {
     "ename": "AttributeError",
     "evalue": "'numpy.float64' object has no attribute 'total_seconds'",
     "output_type": "error",
     "traceback": [
      "\u001b[0;31m---------------------------------------------------------------------------\u001b[0m",
      "\u001b[0;31mAttributeError\u001b[0m                            Traceback (most recent call last)",
      "Cell \u001b[0;32mIn[12], line 36\u001b[0m\n\u001b[1;32m     33\u001b[0m \u001b[38;5;28mprint\u001b[39m(timestamp)\n\u001b[1;32m     35\u001b[0m \u001b[38;5;66;03m# Subtract the minimum timestamp from the current timestamp and convert to frame number\u001b[39;00m\n\u001b[0;32m---> 36\u001b[0m frame_number \u001b[38;5;241m=\u001b[39m \u001b[38;5;28mint\u001b[39m(\u001b[43m(\u001b[49m\u001b[43mtimestamp\u001b[49m\u001b[43m \u001b[49m\u001b[38;5;241;43m-\u001b[39;49m\u001b[43m \u001b[49m\u001b[43mmin_timestamp\u001b[49m\u001b[43m)\u001b[49m\u001b[38;5;241;43m.\u001b[39;49m\u001b[43mtotal_seconds\u001b[49m() \u001b[38;5;241m*\u001b[39m frame_rate)\n\u001b[1;32m     38\u001b[0m \u001b[38;5;66;03m# Ensure frame_number does not exceed total frames in the video\u001b[39;00m\n\u001b[1;32m     39\u001b[0m \u001b[38;5;28;01mif\u001b[39;00m frame_number \u001b[38;5;241m>\u001b[39m\u001b[38;5;241m=\u001b[39m total_frames:\n",
      "\u001b[0;31mAttributeError\u001b[0m: 'numpy.float64' object has no attribute 'total_seconds'"
     ]
    }
   ],
   "source": [
    "import cv2\n",
    "import pandas as pd\n",
    "from pathlib import Path\n",
    "\n",
    "# Load the CSV file\n",
    "csv_path = \"/Users/reibs/Downloads/Total 72, 05-27-2023, 05 50 PM.csv\"\n",
    "data = pd.read_csv(csv_path)\n",
    "\n",
    "# Video file path\n",
    "video_path = \"/Users/reibs/Downloads/05272023_174851_rubbishvideo.mp4\"\n",
    "\n",
    "# Open the video file\n",
    "video = cv2.VideoCapture(video_path)\n",
    "\n",
    "# Get the total number of frames in the video\n",
    "total_frames = int(video.get(cv2.CAP_PROP_FRAME_COUNT))\n",
    "\n",
    "# Get the frame rate of the video\n",
    "frame_rate = video.get(cv2.CAP_PROP_FPS)\n",
    "\n",
    "# Find the minimum timestamp in the CSV data\n",
    "min_timestamp = data[\"creationTimeStamp\"].min()\n",
    "\n",
    "# Create a directory to store the frames\n",
    "frame_directory = Path(\"./frames\")\n",
    "frame_directory.mkdir(parents=True, exist_ok=True)\n",
    "\n",
    "# Initialize a list to store the paths to the saved frames\n",
    "frame_paths = []\n",
    "\n",
    "# Iterate over each timestamp in the CSV data in reverse order\n",
    "for i, timestamp in enumerate(data[\"creationTimeStamp\"][::-1]):\n",
    "    print(timestamp)\n",
    "    \n",
    "    # Subtract the minimum timestamp from the current timestamp and convert to frame number\n",
    "    frame_number = int((timestamp - min_timestamp).total_seconds() * frame_rate)\n",
    "\n",
    "    \n",
    "    # Ensure frame_number does not exceed total frames in the video\n",
    "    if frame_number >= total_frames:\n",
    "        break\n",
    "    \n",
    "    # Set the current position of the video file to the frame_number\n",
    "    video.set(cv2.CAP_PROP_POS_FRAMES, frame_number)\n",
    "\n",
    "    # Read the frame from the video file\n",
    "    success, frame = video.read()\n",
    "\n",
    "    # If the frame was read successfully, save it as an image\n",
    "    if success:\n",
    "        # Define the path to save the frame\n",
    "        frame_path = frame_directory / f\"frame_{i}.png\"\n",
    "        \n",
    "        # Save the frame as an image\n",
    "        cv2.imwrite(str(frame_path), frame)\n",
    "        \n",
    "        # Store the path to the saved frame\n",
    "        frame_paths.append(str(frame_path))\n",
    "\n",
    "# Release the video file\n",
    "video.release()\n",
    "\n",
    "# Print the paths to the saved frames\n",
    "for path in frame_paths:\n",
    "    print(path)"
   ]
  },
  {
   "cell_type": "markdown",
   "id": "312a6c7b",
   "metadata": {},
   "source": [
    "## More generic 1 second script for data gen"
   ]
  },
  {
   "cell_type": "code",
   "execution_count": 27,
   "id": "d2ccb91c",
   "metadata": {},
   "outputs": [
    {
     "name": "stderr",
     "output_type": "stream",
     "text": [
      "\r",
      "  0%|                                                    | 0/15 [00:00<?, ?it/s]"
     ]
    },
    {
     "name": "stdout",
     "output_type": "stream",
     "text": [
      "./video_frames/05272023_192420_rubbishvideo.mp4\n"
     ]
    },
    {
     "name": "stderr",
     "output_type": "stream",
     "text": [
      "\r",
      "  7%|██▉                                         | 1/15 [00:00<00:07,  1.98it/s]"
     ]
    },
    {
     "name": "stdout",
     "output_type": "stream",
     "text": [
      "./video_frames/05272023_192649_rubbishvideo.mp4\n"
     ]
    },
    {
     "name": "stderr",
     "output_type": "stream",
     "text": [
      "\r",
      " 20%|████████▊                                   | 3/15 [00:01<00:05,  2.01it/s]"
     ]
    },
    {
     "name": "stdout",
     "output_type": "stream",
     "text": [
      "./video_frames/05272023_201254_rubbishvideo.mp4\n"
     ]
    },
    {
     "name": "stderr",
     "output_type": "stream",
     "text": [
      "\r",
      " 27%|███████████▋                                | 4/15 [00:18<01:07,  6.12s/it]"
     ]
    },
    {
     "name": "stdout",
     "output_type": "stream",
     "text": [
      "./video_frames/05272023_201652_rubbishvideo.mp4\n"
     ]
    },
    {
     "name": "stderr",
     "output_type": "stream",
     "text": [
      "\r",
      " 33%|██████████████▋                             | 5/15 [00:41<01:56, 11.62s/it]"
     ]
    },
    {
     "name": "stdout",
     "output_type": "stream",
     "text": [
      "./video_frames/05272023_194939_rubbishvideo.mp4\n"
     ]
    },
    {
     "name": "stderr",
     "output_type": "stream",
     "text": [
      "\r",
      " 40%|█████████████████▌                          | 6/15 [00:41<01:12,  8.11s/it]"
     ]
    },
    {
     "name": "stdout",
     "output_type": "stream",
     "text": [
      "./video_frames/05272023_194640_rubbishvideo.mp4\n"
     ]
    },
    {
     "name": "stderr",
     "output_type": "stream",
     "text": [
      "\r",
      " 53%|███████████████████████▍                    | 8/15 [00:52<00:47,  6.85s/it]"
     ]
    },
    {
     "name": "stdout",
     "output_type": "stream",
     "text": [
      "./video_frames/05272023_200157_rubbishvideo.mp4\n"
     ]
    },
    {
     "name": "stderr",
     "output_type": "stream",
     "text": [
      "\r",
      " 67%|████████████████████████████▋              | 10/15 [01:21<00:49,  9.84s/it]"
     ]
    },
    {
     "name": "stdout",
     "output_type": "stream",
     "text": [
      "./video_frames/05272023_194304_rubbishvideo.mp4\n"
     ]
    },
    {
     "name": "stderr",
     "output_type": "stream",
     "text": [
      "\r",
      " 73%|███████████████████████████████▌           | 11/15 [01:24<00:33,  8.50s/it]"
     ]
    },
    {
     "name": "stdout",
     "output_type": "stream",
     "text": [
      "./video_frames/05272023_201614_rubbishvideo.mp4\n"
     ]
    },
    {
     "name": "stderr",
     "output_type": "stream",
     "text": [
      "\r",
      " 80%|██████████████████████████████████▍        | 12/15 [01:27<00:21,  7.06s/it]"
     ]
    },
    {
     "name": "stdout",
     "output_type": "stream",
     "text": [
      "./video_frames/05272023_194157_rubbishvideo.mp4\n"
     ]
    },
    {
     "name": "stderr",
     "output_type": "stream",
     "text": [
      "\r",
      " 87%|█████████████████████████████████████▎     | 13/15 [01:28<00:10,  5.44s/it]"
     ]
    },
    {
     "name": "stdout",
     "output_type": "stream",
     "text": [
      "./video_frames/05272023_195010_rubbishvideo.mp4\n"
     ]
    },
    {
     "name": "stderr",
     "output_type": "stream",
     "text": [
      "\r",
      " 93%|████████████████████████████████████████▏  | 14/15 [01:37<00:06,  6.50s/it]"
     ]
    },
    {
     "name": "stdout",
     "output_type": "stream",
     "text": [
      "./video_frames/05272023_194243_rubbishvideo.mp4\n"
     ]
    },
    {
     "name": "stderr",
     "output_type": "stream",
     "text": [
      "100%|███████████████████████████████████████████| 15/15 [01:38<00:00,  6.56s/it]\n"
     ]
    }
   ],
   "source": [
    "import os\n",
    "import cv2\n",
    "from tqdm import tqdm\n",
    "\n",
    "def extract_frames(video_path, output_dir):\n",
    "    # Create the output directory if it doesn't exist\n",
    "    os.makedirs(output_dir, exist_ok=True)\n",
    "    print(output_dir)\n",
    "\n",
    "    # Open the video file with OpenCV\n",
    "    vidcap = cv2.VideoCapture(video_path)\n",
    "\n",
    "    # Get the frames per second (fps) of the video\n",
    "    fps = vidcap.get(cv2.CAP_PROP_FPS)\n",
    "\n",
    "    frame_count = 0\n",
    "    while True:\n",
    "        # Set the position of the video to the current second\n",
    "        vidcap.set(cv2.CAP_PROP_POS_FRAMES, frame_count)\n",
    "        \n",
    "        # Read the next frame\n",
    "        success, image = vidcap.read()\n",
    "        \n",
    "        if success:\n",
    "            # Write the frame to a file\n",
    "            cv2.imwrite(os.path.join(output_dir, f'frame_{int(frame_count // fps)}.jpg'), image)\n",
    "        else:\n",
    "            break  # No more frames to read\n",
    "\n",
    "        frame_count += fps\n",
    "\n",
    "# Call the function for your video file\n",
    "video_path = '/Users/reibs/Downloads/RubbishDevelopment copy/'\n",
    "output_dir = './video_frames'\n",
    "path = '/Users/reibs/Downloads/RubbishDevelopment copy/'\n",
    "for vid in tqdm(os.listdir(path)):\n",
    "    if vid.endswith('.mp4'):\n",
    "        extract_frames(os.path.join(path, vid), os.path.join(output_dir, vid))"
   ]
  },
  {
   "cell_type": "code",
   "execution_count": 24,
   "id": "7ca322a8",
   "metadata": {},
   "outputs": [
    {
     "data": {
      "text/plain": [
       "'./video_frames'"
      ]
     },
     "execution_count": 24,
     "metadata": {},
     "output_type": "execute_result"
    }
   ],
   "source": [
    "output_dir"
   ]
  },
  {
   "cell_type": "code",
   "execution_count": null,
   "id": "3fabb030",
   "metadata": {},
   "outputs": [],
   "source": []
  }
 ],
 "metadata": {
  "kernelspec": {
   "display_name": "Python 3 (ipykernel)",
   "language": "python",
   "name": "python3"
  },
  "language_info": {
   "codemirror_mode": {
    "name": "ipython",
    "version": 3
   },
   "file_extension": ".py",
   "mimetype": "text/x-python",
   "name": "python",
   "nbconvert_exporter": "python",
   "pygments_lexer": "ipython3",
   "version": "3.11.3"
  }
 },
 "nbformat": 4,
 "nbformat_minor": 5
}
